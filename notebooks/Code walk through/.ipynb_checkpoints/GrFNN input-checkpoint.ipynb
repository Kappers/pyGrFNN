{
 "cells": [
  {
   "cell_type": "markdown",
   "metadata": {},
   "source": [
    "# GrFNN input\n",
    "\n",
    "\n",
    "Current code (April 28, 2015):\n",
    "\n",
    "\"\"\"\n",
    "    # process external signal (stimulus)\n",
    "    if layer.stimulus_conn_type == 'linear':\n",
    "        x = layer.w * x_stim\n",
    "    elif layer.stimulus_conn_type == 'active':\n",
    "        x = layer.w * x_stim * active(z, layer.zparams.sqe)\n",
    "    elif layer.stimulus_conn_type == 'allfreq':\n",
    "        x = layer.w * passiveAllFreq(x_stim, layer.zparams.sqe) * \\\n",
    "            active(z, layer.zparams.sqe)\n",
    "    elif layer.stimulus_conn_type == 'all2freq':\n",
    "        x = layer.w * passiveAll2Freq(x_stim, layer.zparams.sqe) * \\\n",
    "            active(z, layer.zparams.sqe)\n",
    "    else:\n",
    "        raise Exception(\"Unknown stimulus connection type '{}'\".format(\n",
    "            layer.stimulus_conn_type))\n",
    "\n",
    "    # process coupled GrFNNs (internal, afferent and efferent)\n",
    "    for (source_z, conn) in connections:\n",
    "        matrix, conn_type = conn.matrix, conn.conn_type\n",
    "        if conn_type == '1freq':\n",
    "            x = x + conn.weights * matrix.dot(source_z)\n",
    "        elif conn_type == '2freq':\n",
    "            x = x + conn.weights * twoFreq(z, source_z,\n",
    "                                           conn.farey_num, conn.farey_den,\n",
    "                                           matrix,\n",
    "                                           layer.zparams.e)\n",
    "        elif conn_type == '3freq':\n",
    "            x = x + conn.weights * threeFreq(z, source_z,\n",
    "                                             conn.monomials,\n",
    "                                             layer.zparams.e)\n",
    "        elif conn_type == 'allfreq':\n",
    "            x = x + conn.weights * \\\n",
    "                matrix.dot(passiveAll2Freq(source_z, layer.zparams.sqe)) * \\\n",
    "                active(z, layer.zparams.sqe)\n",
    "        elif conn_type == 'all2freq':\n",
    "            x = x + conn.weights * \\\n",
    "                matrix.dot(passiveAllFreq(source_z, layer.zparams.sqe)) * \\\n",
    "                active(z, layer.zparams.sqe)\n",
    "        else:\n",
    "            raise Exception(\"Unknown connection type '{}'\".format(conn_type))\n",
    "\n",
    "    return x\n",
    "\n",
    "\"\"\"\n",
    "\n",
    "\n",
    "In math:\n",
    "\n",
    "\n",
    "Let $w_i$ denote `layer.w`. Be default $w_i = f_i = \\omega_i/2\\pi$\n",
    "\n",
    "\n",
    "\n",
    "\n",
    "\n",
    "\n",
    "\n"
   ]
  },
  {
   "cell_type": "code",
   "execution_count": null,
   "metadata": {
    "collapsed": true
   },
   "outputs": [],
   "source": []
  }
 ],
 "metadata": {
  "kernelspec": {
   "display_name": "Python 2",
   "language": "python",
   "name": "python2"
  },
  "language_info": {
   "codemirror_mode": {
    "name": "ipython",
    "version": 2
   },
   "file_extension": ".py",
   "mimetype": "text/x-python",
   "name": "python",
   "nbconvert_exporter": "python",
   "pygments_lexer": "ipython2",
   "version": "2.7.9"
  }
 },
 "nbformat": 4,
 "nbformat_minor": 0
}
