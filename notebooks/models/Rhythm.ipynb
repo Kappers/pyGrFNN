{
 "cells": [
  {
   "cell_type": "markdown",
   "metadata": {},
   "source": [
    "# Rhythm model"
   ]
  },
  {
   "cell_type": "code",
   "execution_count": 1,
   "metadata": {
    "collapsed": true
   },
   "outputs": [],
   "source": [
    "\"\"\"\n",
    "Rhythm processing model\n",
    "\"\"\"\n",
    "\n",
    "%matplotlib inline\n",
    "\n",
    "from __future__ import division\n",
    "\n",
    "from time import time\n",
    "import sys\n",
    "sys.path.append('../')  # needed to run the examples from within the package folder\n",
    "\n",
    "import numpy as np\n",
    "from scipy.signal import hilbert\n",
    "\n",
    "\n",
    "from scipy.io import loadmat\n",
    "\n",
    "from pygrfnn.network import Model, make_connections, modelFromJSON\n",
    "from pygrfnn.oscillator import Zparam\n",
    "from pygrfnn.grfnn import GrFNN\n",
    "from pygrfnn import MPL\n",
    "\n",
    "if MPL:\n",
    "    import matplotlib.pyplot as plt\n",
    "    from pygrfnn.vis import plot_connections\n",
    "    from pygrfnn.vis import tf_detail\n",
    "    from pygrfnn.vis import GrFNN_RT_plot\n",
    "\n",
    "from pyrhythm.library import get_pattern\n",
    "from daspy import Signal\n",
    "from daspy.processing import onset_detection_signal\n",
    "\n",
    "RT_display = False\n",
    "\n",
    "def get_stimulus(pattern_name=\"iso\",\n",
    "                 tempo=120.0,\n",
    "                 reps=6.0,\n",
    "                 lead_silence=0.0,\n",
    "                 sr=16000.0,\n",
    "                 click_freq=1200.0,\n",
    "                 with_beat=False,\n",
    "                 beat_freq=1800.0,\n",
    "                 accented=False,\n",
    "                 win_len=2048, \n",
    "                 hop_size=512, \n",
    "                 mel_bands=64\n",
    "                 ):\n",
    "    p = get_pattern(pattern_name)\n",
    "    x, _ = p.as_signal(tempo=tempo,\n",
    "                     reps=reps,\n",
    "                     lead_silence=lead_silence,\n",
    "                     sr=sr,\n",
    "                     click_freq=click_freq,\n",
    "                     with_beat=with_beat,\n",
    "                     beat_freq=beat_freq,\n",
    "                     accented=accented)\n",
    "    x = Signal(x, sr=sr)\n",
    "    s = onset_detection_signal(x, win_len=win_len, hop_size=hop_size, mel_bands=mel_bands)\n",
    "\n",
    "    rms = np.sqrt(np.sum(s**2)/len(s))\n",
    "    s *= 0.06/rms\n",
    "    s = Signal(hilbert(s), sr=s.sr)\n",
    "    t = s.time_vector()\n",
    "    dt = 1/s.sr\n",
    "    # print \"SR: \", s.sr\n",
    "    return s, t, dt"
   ]
  },
  {
   "cell_type": "code",
   "execution_count": 16,
   "metadata": {
    "collapsed": false
   },
   "outputs": [
    {
     "data": {
      "text/plain": [
       "[<matplotlib.lines.Line2D at 0x10b45d510>]"
      ]
     },
     "execution_count": 16,
     "metadata": {},
     "output_type": "execute_result"
    },
    {
     "data": {
      "image/png": "[encoded data removed]",
      "text/plain": [
       "<matplotlib.figure.Figure at 0x10740a8d0>"
      ]
     },
     "metadata": {},
     "output_type": "display_data"
    }
   ],
   "source": [
    "pattern_name = \"bossa\"\n",
    "\n",
    "s, t, dt = get_stimulus(pattern_name,\n",
    "                        tempo=120.0,\n",
    "                        reps=8,\n",
    "                        hop_size=128,\n",
    "                        win_len=2048*2,\n",
    "                       )\n",
    "\n",
    "plt.figure()\n",
    "plt.plot(t, s)"
   ]
  },
  {
   "cell_type": "code",
   "execution_count": 19,
   "metadata": {
    "collapsed": false
   },
   "outputs": [],
   "source": [
    "def rhythm_model():\n",
    "    rhythm_model_definition = {\n",
    "        \"name\": \"Sensory Motor Rhythm model\",\n",
    "        \"layers\": [\n",
    "            {\n",
    "                \"name\": \"sensory network\",\n",
    "                \"zparams\": {\n",
    "                    \"alpha\": 0.00001,\n",
    "                    \"beta1\": -2.0,\n",
    "                    \"beta2\": -2.0,\n",
    "                    \"delta1\": 0.0,\n",
    "                    \"delta2\": 0.0,\n",
    "                    \"epsilon\": 1.0\n",
    "                },\n",
    "                \"frequency_range\": [0.375, 12.0],\n",
    "                \"num_oscs\": 320,\n",
    "                \"stimulus_conn_type\": \"allfreq\",\n",
    "                \"input_channel\": 0\n",
    "            },\n",
    "            {\n",
    "                \"name\": \"motor network\",\n",
    "                \"zparams\": {\n",
    "                    \"alpha\": -0.4,\n",
    "                    \"beta1\": 1.75,\n",
    "                    \"beta2\": -1.25,\n",
    "                    \"delta1\": 0.0,\n",
    "                    \"delta2\": 0.0,\n",
    "                    \"epsilon\": 1.0\n",
    "                },\n",
    "                \"frequency_range\": [0.375, 12.0],\n",
    "                \"num_oscs\": 321,\n",
    "                \"stimulus_conn_type\": \"active\"\n",
    "            }\n",
    "        ],\n",
    "        \"connections\": [\n",
    "            {\n",
    "                \"source_name\": \"sensory network\",\n",
    "                \"target_name\": \"sensory network\",\n",
    "                \"modes\": [0.333333333333, 0.5, 1, 2.0, 3.0],\n",
    "                \"amps\": [1, 1, 1, 1, 1],\n",
    "                \"strength\": 1.0,\n",
    "                \"range\": 1.05,\n",
    "                \"connection_type\": \"2freq\",\n",
    "                \"self_connect\": False,\n",
    "                \"weight\": 0.25\n",
    "            },\n",
    "            {\n",
    "                \"source_name\": \"sensory network\",\n",
    "                \"target_name\": \"motor network\",\n",
    "#                 \"modes\": [0.333333333333, 0.5, 1, 2.0, 3.0],\n",
    "#                 \"amps\": [1, 1, 1, 1, 1],\n",
    "                \"modes\": [1.0],\n",
    "                \"amps\": [1.0],\n",
    "                \"strength\": 1.25,\n",
    "                \"range\": 1.05,\n",
    "                \"connection_type\": \"2freq\",\n",
    "                \"self_connect\": True,\n",
    "                \"weight\": 0.4\n",
    "            },\n",
    "#             {\n",
    "#                 \"source_name\": \"motor network\",\n",
    "#                 \"target_name\": \"motor network\",\n",
    "#                 \"modes\": [0.333333333333, 0.5, 1, 2.0, 3.0],\n",
    "#                 \"amps\": [1, 1, 1, 1, 1],\n",
    "#                 \"strength\": 1.0,\n",
    "#                 \"range\": 1.05,\n",
    "#                 \"connection_type\": \"2freq\",\n",
    "#                 \"self_connect\": False,\n",
    "#                 \"weight\": 0.1\n",
    "#             },\n",
    "#             {\n",
    "#                 \"source_name\": \"motor network\",\n",
    "#                 \"target_name\": \"sensory network\",\n",
    "#                 \"modes\": [0.333333333333, 0.5, 1, 2.0, 3.0],\n",
    "#                 \"amps\": [1, 1, 1, 1, 1],\n",
    "#                 \"strength\": 0.2,\n",
    "#                 \"range\": 1.05,\n",
    "#                 \"connection_type\": \"2freq\",\n",
    "#                 \"self_connect\": True,\n",
    "#                 \"weight\": 0.05\n",
    "#             }\n",
    "        ]\n",
    "    }\n",
    "\n",
    "    return modelFromJSON(rhythm_model_definition)"
   ]
  },
  {
   "cell_type": "code",
   "execution_count": null,
   "metadata": {
    "collapsed": false
   },
   "outputs": [
    {
     "name": "stdout",
     "output_type": "stream",
     "text": [
      "0747/2031"
     ]
    }
   ],
   "source": [
    "gain = 0.25\n",
    "model = rhythm_model()\n",
    "\n",
    "tic = time()\n",
    "model.run(gain*s, t, dt)\n",
    "print \"Run time: {:0.1f} seconds\".format(time() - tic)\n",
    "\n",
    "TF = model.layers()[-1].Z\n",
    "f = model.layers()[-1].f\n",
    "\n",
    "# \n",
    "plt.figure()\n",
    "tf_detail(TF, t, f, t_detail=t[-1])\n",
    "\n",
    "\n",
    "# mean field\n",
    "r = np.sum(TF, 0)\n",
    "rms = np.sqrt(np.sum(r*np.conj(r))/len(r))\n",
    "r *= 0.06/rms\n",
    "plt.figure()\n",
    "plt.plot(t, np.real(r))\n",
    "plt.plot(t, np.real(s))"
   ]
  },
  {
   "cell_type": "code",
   "execution_count": null,
   "metadata": {
    "collapsed": true
   },
   "outputs": [],
   "source": []
  }
 ],
 "metadata": {
  "kernelspec": {
   "display_name": "Python 2",
   "language": "python",
   "name": "python2"
  },
  "language_info": {
   "codemirror_mode": {
    "name": "ipython",
    "version": 2
   },
   "file_extension": ".py",
   "mimetype": "text/x-python",
   "name": "python",
   "nbconvert_exporter": "python",
   "pygments_lexer": "ipython2",
   "version": "2.7.9"
  }
 },
 "nbformat": 4,
 "nbformat_minor": 0
}
