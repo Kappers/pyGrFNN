{
 "cells": [
  {
   "cell_type": "code",
   "execution_count": 1,
   "metadata": {
    "collapsed": false
   },
   "outputs": [
    {
     "name": "stdout",
     "output_type": "stream",
     "text": [
      "The autoreload extension is already loaded. To reload it, use:\n",
      "  %reload_ext autoreload\n"
     ]
    },
    {
     "name": "stderr",
     "output_type": "stream",
     "text": [
      "/usr/local/lib/python2.7/site-packages/IPython/kernel/__main__.py:22: ComplexWarning: Casting complex values to real discards the imaginary part\n"
     ]
    },
    {
     "data": {
      "text/plain": [
       "[<matplotlib.lines.Line2D at 0x10ab64310>]"
      ]
     },
     "execution_count": 1,
     "metadata": {},
     "output_type": "execute_result"
    },
    {
     "data": {
      "image/png": "[encoded data removed]",
      "text/plain": [
       "<matplotlib.figure.Figure at 0x1072ed990>"
      ]
     },
     "metadata": {},
     "output_type": "display_data"
    }
   ],
   "source": [
    "%matplotlib inline\n",
    "%load_ext autoreload\n",
    "%autoreload 2\n",
    "\n",
    "from __future__ import division\n",
    "\n",
    "import numpy as np\n",
    "import matplotlib.pyplot as plt\n",
    "\n",
    "from pygrfnn import GrFNN, Zparam\n",
    "from pygrfnn.network import Model, make_connections\n",
    "from pygrfnn.vis import tf_detail, plot_connections\n",
    "\n",
    "\n",
    "# stimulus\n",
    "sr = 100\n",
    "freqs = [2.0, 3.0, 5.0]\n",
    "dur = 8.0\n",
    "t = np.linspace(0, dur, dur*sr)\n",
    "x = np.zeros_like(t)\n",
    "for f0 in freqs:\n",
    "    x += np.exp(2j*np.pi*f0*t) / len(freqs)\n",
    "\n",
    "plt.plot(t, np.real(x))"
   ]
  },
  {
   "cell_type": "code",
   "execution_count": null,
   "metadata": {
    "collapsed": false,
    "scrolled": false
   },
   "outputs": [
    {
     "name": "stdout",
     "output_type": "stream",
     "text": [
      "Calculating 3freq with params: N=10, tol=0.0001, lowest_order_only=True\n",
      "a) Elapsed: 0.13924908638 secs\n",
      "b) Elapsed: 0.146105051041 secs\n",
      "c) Elapsed: 0.754754066467 secs\n",
      "d) Elapsed: 0.805194139481 secs\n",
      "e) Elapsed: 1.76346993446 secs\n",
      "f) Elapsed: 2.00078010559 secs\n",
      "g) Elapsed: 2.04124999046 secs\n",
      "232/800"
     ]
    }
   ],
   "source": [
    "# model\n",
    "f_range = (0.5, 20)\n",
    "oscs = 100\n",
    "\n",
    "zp = Zparam(alpha=-0.05, beta1=0.2, beta2=-2.0, epsilon=1.0)\n",
    "l = GrFNN(zp, frequency_range=f_range, num_oscs=oscs, stimulus_conn_type='linear', z0=0)\n",
    "\n",
    "m = Model()\n",
    "m.add_layer(l, input_channel=0)\n",
    "\n",
    "C = make_connections(l, l, \n",
    "                     modes=[1/3, 1/2, 1, 2, 3], \n",
    "                     mode_amps=[1, 1, 1, 1, 1],\n",
    "                     strength=1.0,\n",
    "                     range=1.01,  # I HAVEN'T RUN THIS YET\n",
    "                    self_connect=True)\n",
    "\n",
    "m.connect_layers(l, l, C, \n",
    "#                  connection_type='2freq', \n",
    "                 connection_type='3freq', \n",
    "                 connection_params = {'N': 10, 'tol': 1e-4},\n",
    "                 self_connect=True,\n",
    "                 weight=0.2)\n",
    "# print C\n",
    "# plot_connections(m.connections[l][0])\n",
    "\n",
    "gain = 0.1\n",
    "\n",
    "m.run(gain*x, t, 1/sr)\n",
    "\n",
    "\n",
    "tf_detail(l.Z, t, l.f)"
   ]
  },
  {
   "cell_type": "code",
   "execution_count": 12,
   "metadata": {
    "collapsed": false
   },
   "outputs": [
    {
     "name": "stdout",
     "output_type": "stream",
     "text": [
      "[[21 19 21  2  6]\n",
      " [16 15  6 12 19]\n",
      " [18 20  7 21 12]\n",
      " [18  1 10 24  5]\n",
      " [14  7  5 12 24]]\n",
      "[[0 2 3]\n",
      " [1 4 2]\n",
      " [3 2 4]]\n",
      "[[ 2 21]\n",
      " [ 6  5]\n",
      " [ 5 12]]\n"
     ]
    }
   ],
   "source": [
    "X = np.random.randint(1,25,(5,5))\n",
    "I = np.array([[0, 2, 3], [1, 4, 2], [3, 2, 4]])\n",
    "\n",
    "print X\n",
    "print I\n",
    "\n",
    "cij1, cij2 = [X[k[0], k[2]] for k in I], [X[k[1], k[2]] for k in I]\n",
    "\n",
    "\n",
    "C = np.vstack((cij1, cij2)).T\n",
    "print C\n"
   ]
  },
  {
   "cell_type": "code",
   "execution_count": null,
   "metadata": {
    "collapsed": true
   },
   "outputs": [],
   "source": []
  }
 ],
 "metadata": {
  "kernelspec": {
   "display_name": "Python 2",
   "language": "python",
   "name": "python2"
  },
  "language_info": {
   "codemirror_mode": {
    "name": "ipython",
    "version": 2
   },
   "file_extension": ".py",
   "mimetype": "text/x-python",
   "name": "python",
   "nbconvert_exporter": "python",
   "pygments_lexer": "ipython2",
   "version": "2.7.9"
  }
 },
 "nbformat": 4,
 "nbformat_minor": 0
}
