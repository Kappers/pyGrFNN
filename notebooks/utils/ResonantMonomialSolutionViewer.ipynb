{
 "metadata": {
  "name": "",
  "signature": "sha256:f4e48bb0f75ed12f2deb6d8a30540dd4a6829ded6756c6eeda701c39e76f13d4"
 },
 "nbformat": 3,
 "nbformat_minor": 0,
 "worksheets": [
  {
   "cells": [
    {
     "cell_type": "code",
     "collapsed": false,
     "input": [
      "from pygrfnn.resonances import monomialsForVectors\n",
      "\n",
      "f1 = f2 = np.logspace(-1,1,5,base=2)\n",
      "\n",
      "m = monomialsForVectors(f1, f2, N=5, tol=1e-10, allow_self_connect=True)\n",
      "\n",
      "\n"
     ],
     "language": "python",
     "metadata": {},
     "outputs": [
      {
       "output_type": "stream",
       "stream": "stdout",
       "text": [
        "a) Elapsed: 0.000683069229126 secs\n",
        "b) Elapsed: 0.000782012939453 secs\n",
        "c) Elapsed: 0.000919103622437 secs\n",
        "d) Elapsed: 0.000985145568848 secs\n",
        "e) Elapsed: 0.00524401664734 secs\n",
        "f) Elapsed: 0.00617909431458 secs\n",
        "g) Elapsed: 0.00662302970886 secs\n"
       ]
      }
     ],
     "prompt_number": 1
    },
    {
     "cell_type": "code",
     "collapsed": false,
     "input": [
      "for s in m:\n",
      "    I = s.indices.copy()\n",
      "    E = s.exponents.copy()\n",
      "    I[:,1:] -= len(f1)\n",
      "    I[:,2:] -= len(f1)\n",
      "    E[:,2] += 1\n",
      "    for i in range(I.shape[0]):\n",
      "        d = E[i,0]*f1[I[i,0]] + E[i,1]*f1[I[i,1]] - E[i,2]*f2[I[i,2]]\n",
      "        print \"{}*{} + {}*{} = {}*{} ({})\".format(E[i,0], f1[I[i,0]], E[i,1], f1[I[i,1]], E[i,2], f2[I[i,2]], d)"
     ],
     "language": "python",
     "metadata": {},
     "outputs": [
      {
       "output_type": "stream",
       "stream": "stdout",
       "text": [
        "-2*0.5 + 1*2.0 = 2*0.5 (0.0)\n",
        "-3*0.5 + 1*2.0 = 1*0.5 (0.0)\n",
        "-1*0.5 + 1*2.0 = 3*0.5 (0.0)\n",
        "-1*0.5 + 1*1.0 = 1*0.5 (0.0)\n",
        "-1*1.0 + 1*2.0 = 2*0.5 (0.0)\n",
        "1*0.5 + 0*0.5 = 1*0.5 (0.0)\n",
        "-1*0.707106781187 + 1*1.41421356237 = 1*0.707106781187 (0.0)\n",
        "1*0.707106781187 + 0*0.707106781187 = 1*0.707106781187 (0.0)\n",
        "-2*0.5 + 2*1.0 = 1*1.0 (0.0)\n",
        "2*0.5 + 1*1.0 = 2*1.0 (0.0)\n",
        "-1*1.0 + 1*2.0 = 1*1.0 (0.0)\n",
        "-2*0.5 + 1*2.0 = 1*1.0 (0.0)\n",
        "1*1.0 + 0*1.0 = 1*1.0 (0.0)\n",
        "-2*0.707106781187 + 2*1.41421356237 = 1*1.41421356237 (0.0)\n",
        "2*0.707106781187 + 1*1.41421356237 = 2*1.41421356237 (0.0)\n",
        "1*1.41421356237 + 0*1.41421356237 = 1*1.41421356237 (0.0)\n",
        "-2*1.0 + 2*2.0 = 1*2.0 (0.0)\n",
        "2*1.0 + 1*2.0 = 2*2.0 (0.0)\n",
        "4*0.5 + 1*2.0 = 2*2.0 (0.0)\n",
        "2*0.5 + 1*1.0 = 1*2.0 (0.0)\n",
        "1*2.0 + 0*2.0 = 1*2.0 (0.0)\n"
       ]
      }
     ],
     "prompt_number": 7
    },
    {
     "cell_type": "code",
     "collapsed": false,
     "input": [],
     "language": "python",
     "metadata": {},
     "outputs": []
    }
   ],
   "metadata": {}
  }
 ]
}