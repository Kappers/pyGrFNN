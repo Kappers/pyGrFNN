{
 "cells": [
  {
   "cell_type": "markdown",
   "metadata": {},
   "source": [
    "# Resonant Sequences\n",
    "\n",
    "(from http://journals.aps.org/prstab/abstract/10.1103/PhysRevSTAB.17.014001)"
   ]
  },
  {
   "cell_type": "code",
   "execution_count": 1,
   "metadata": {
    "collapsed": false
   },
   "outputs": [
    {
     "name": "stdout",
     "output_type": "stream",
     "text": [
      "Thu Apr  9 15:28:26 PDT 2015\r\n"
     ]
    }
   ],
   "source": [
    "!date\n",
    "%matplotlib inline"
   ]
  },
  {
   "cell_type": "code",
   "execution_count": 5,
   "metadata": {
    "collapsed": false
   },
   "outputs": [],
   "source": [
    "from __future__ import division\n",
    "import math\n",
    "\n",
    "def fareySequence(N, k=1):\n",
    "    \"\"\"\n",
    "    Generate Farey sequence of order N, less than 1/k\n",
    "    \"\"\"\n",
    "    # assert type(N) == int, \"Order (N) must be an integer\"\n",
    "    a, b = 0, 1\n",
    "    c, d = 1, N\n",
    "    seq = [(a,b)]\n",
    "    while c/d <= 1/k:\n",
    "        seq.append((c,d))\n",
    "        tmp = int(math.floor((N+b)/d))\n",
    "        a, b, c, d = c, d, tmp*c-a, tmp*d-b\n",
    "    return seq\n",
    "\n",
    "\n",
    "def resonanceSequence(N, k):\n",
    "    \"\"\"\n",
    "    Compute resonance sequence\n",
    "\n",
    "    Arguments:\n",
    "        - N (int): Order\n",
    "        - k (int): denominator of the farey frequency resonances are attached to\n",
    "    \"\"\"\n",
    "    a, b = 0, 1\n",
    "    c, d = k, N-k\n",
    "    seq = [(a,b)]\n",
    "    while d >= 0:\n",
    "        seq.append((c,d))\n",
    "        tmp = int(math.floor((N+b+a)/(d+c)))\n",
    "        a, b, c, d = c, d, tmp*c-a, tmp*d-b\n",
    "    return seq\n",
    "\n",
    "\n",
    "def plotResonanceDiagram(N, figsize=(10,10)):\n",
    "    import matplotlib.pyplot as plt\n",
    "\n",
    "    ALPHA = 0.5/N\n",
    "\n",
    "    plt.figure(figsize=figsize)\n",
    "    ticks = set([])\n",
    "    for h, k in fareySequence(N, 1):\n",
    "        ticks.add((h,k))\n",
    "        for a, b in resonanceSequence(N, k):\n",
    "            if b == 0:\n",
    "                x = np.array([h/k, h/k])\n",
    "                y = np.array([0, 1])\n",
    "            elif a== 0:\n",
    "                x = np.array([0, 1])\n",
    "                y = np.array([h/k, h/k])\n",
    "            else:\n",
    "                m = a/b\n",
    "                cp, cm = m*h/k, -m*h/k\n",
    "                x = np.array([0, h/k, 1])\n",
    "                y = np.array([cp, 0, cm+m])\n",
    "            plt.plot(  x,   y, 'b', alpha=ALPHA) # seqs. attached to horizontal axis\n",
    "            plt.plot(  y,   x, 'b', alpha=ALPHA) # seqs. attached to vertical axis\n",
    "            # also draw symetrical lines, to be fair (otherwise lines in the \n",
    "            # lower left traingle will be duplicated, but no the others)\n",
    "            plt.plot(  x, 1-y, 'b', alpha=ALPHA) \n",
    "            plt.plot(1-y,   x, 'b', alpha=ALPHA)\n",
    "    plt.xlim(0, 1)\n",
    "    plt.ylim(0, 1)\n",
    "    plt.xticks([h/k for h,k in ticks], [r\"$\\frac{{{:d}}}{{{:d}}}$\".format(h,k) for h,k in ticks], fontsize=15)\n",
    "    plt.yticks([h/k for h,k in ticks], [r\"${:d}/{:d}$\".format(h,k) for h,k in ticks])\n",
    "    plt.title(\"N = {:d}\".format(N))\n"
   ]
  },
  {
   "cell_type": "markdown",
   "metadata": {},
   "source": [
    "## Generating resonance sequences is fast\n",
    "\n",
    "Try it!\n",
    "\n",
    "**Note**: in the original paper there was a minor mistake. Eq. (8) read\n",
    "\n",
    "$$\n",
    "\\Bigg( \\Big\\lfloor \\frac{N+b+a}{d} \\Big\\rfloor c - a , \\Big\\lfloor \\frac{N+b+a}{d} \\Big\\rfloor d - b  \\Bigg)\n",
    "$$\n",
    "\n",
    "but it should read\n",
    "\n",
    "$$\n",
    "\\Bigg( \\Big\\lfloor \\frac{N+b+a}{d+c} \\Big\\rfloor c - a , \\Big\\lfloor \\frac{N+b+a}{d+c} \\Big\\rfloor d - b  \\Bigg)\n",
    "$$\n",
    "\n",
    "I've contacted Rogelio Tomás (the author) and he agreed with the correction (an erratum will be sent to the publication)."
   ]
  },
  {
   "cell_type": "code",
   "execution_count": 6,
   "metadata": {
    "collapsed": false
   },
   "outputs": [
    {
     "name": "stdout",
     "output_type": "stream",
     "text": [
      "N=5, k=1:\n",
      "\t[(0, 1), (1, 4), (1, 3), (1, 2), (2, 3), (1, 1), (3, 2), (2, 1), (3, 1), (4, 1), (1, 0)]\n",
      "N=5, k=2:\n",
      "\t[(0, 1), (2, 3), (2, 2), (2, 1), (4, 1), (2, 0)]\n",
      "N=5, k=3:\n",
      "\t[(0, 1), (3, 2), (3, 1), (3, 0)]\n",
      "N=5, k=4:\n",
      "\t[(0, 1), (4, 1), (4, 0)]\n",
      "N=5, k=5:\n",
      "\t[(0, 1), (5, 0)]\n"
     ]
    }
   ],
   "source": [
    "N = 5\n",
    "for k in set([k for _,k in fareySequence(N, 1)]):\n",
    "    print \"N={}, k={}:\".format(N, k)\n",
    "    print \"\\t\", resonanceSequence(N, k)"
   ]
  },
  {
   "cell_type": "markdown",
   "metadata": {},
   "source": [
    "## ..., but plotting can be slow for large N (N > 10)\n",
    "\n",
    "Try it, but be patient ... (lots of lines to plot)"
   ]
  },
  {
   "cell_type": "code",
   "execution_count": 10,
   "metadata": {
    "collapsed": false
   },
   "outputs": [],
   "source": [
    "# from matplotlib2tikz import save as save_tikz\n",
    "import numpy as np\n",
    "import matplotlib.pyplot as plt\n",
    "plotResonanceDiagram(10, figsize=(12,12))\n",
    "\n",
    "\n",
    "\n",
    "# save_tikz('resonanceDiagram_N7.tikz')\n",
    "\n",
    "def plotSolution(a,b,c,color='r'):\n",
    "    x = [c/a, 0, (c-b)/a, 1]\n",
    "    y = [0, c/b, 1, (c-a)/b]\n",
    "    plt.plot(x, y, color=color, alpha=0.5, linewidth=4)\n",
    "\n",
    "    \n",
    "# plot some example solutions\n",
    "if True:\n",
    "    # solutions for (x,y) = (0.5, 1)\n",
    "    plotSolution( 4, -1,  1)\n",
    "    plotSolution(-2,  2,  1)\n",
    "    plotSolution(-2,  3,  2)\n",
    "    plotSolution( 4,  1,  3)\n",
    "    plotSolution( 2,  1,  2)\n",
    "\n",
    "    # solutions for (x,y) = (0.5, 0.5)\n",
    "    plotSolution( 3, -1,  1, 'g')\n",
    "    plotSolution(-1,  3,  1, 'g')\n",
    "    plotSolution( 3,  1,  2, 'g')\n",
    "    plotSolution( 1,  3,  2, 'g')\n",
    "    plotSolution( 1,  1,  1, 'g')"
   ]
  },
  {
   "cell_type": "code",
   "execution_count": null,
   "metadata": {
    "collapsed": false
   },
   "outputs": [],
   "source": [
    "plt.sh"
   ]
  }
 ],
 "metadata": {
  "kernelspec": {
   "display_name": "Python 2",
   "language": "python",
   "name": "python2"
  },
  "language_info": {
   "codemirror_mode": {
    "name": "ipython",
    "version": 2
   },
   "file_extension": ".py",
   "mimetype": "text/x-python",
   "name": "python",
   "nbconvert_exporter": "python",
   "pygments_lexer": "ipython2",
   "version": "2.7.9"
  }
 },
 "nbformat": 4,
 "nbformat_minor": 0
}
