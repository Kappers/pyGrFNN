{
 "cells": [
  {
   "cell_type": "markdown",
   "metadata": {},
   "source": [
    "# Phase locking region\n",
    "\n",
    "(from book, ch.4 pp.2--5)\n",
    "\n",
    "\n",
    "For a Hopf-bifuctaion for a sinusoidal forcing:\n",
    "\n",
    "$$\n",
    "\\dot{z} = z(\\alpha + j\\omega + \\beta_1 |z|^2) + Fe^{j\\theta}\n",
    "$$\n",
    "\n",
    "In polar form (for $z = r e^{j\\phi}$, $\\dot{\\phi} = \\omega$):\n",
    "\n",
    "\n",
    "$$\n",
    "\\dot{r} = \\alpha r + \\beta_1 r^3 + F \\cos \\psi \\\\\n",
    "\\dot{\\psi} = \\Omega - \\frac{F}{r}\\sin\\psi\n",
    "$$\n",
    "where $\\dot{\\theta} = \\omega_0$, $\\psi = \\phi-\\theta$ and $\\Omega = \\omega - \\omega_0$"
   ]
  },
  {
   "cell_type": "code",
   "execution_count": 112,
   "metadata": {
    "collapsed": false
   },
   "outputs": [
    {
     "name": "stdout",
     "output_type": "stream",
     "text": [
      "The autoreload extension is already loaded. To reload it, use:\n",
      "  %reload_ext autoreload\n",
      "[-1.37438661  0.04405216  0.33033445]\n"
     ]
    }
   ],
   "source": [
    "%matplotlib inline\n",
    "%load_ext autoreload\n",
    "%autoreload 2\n",
    "\n",
    "from __future__ import division\n",
    "import numpy as np\n",
    "import matplotlib.pyplot as plt\n",
    "from numpy.polynomial.polynomial import polyroots  # the coefficients must be supplied in increasing order\n",
    "\n",
    "\n",
    "\n",
    "a = 1.0  # alpha > 0\n",
    "b1 = -1.0 # beta1 < 0\n",
    "\n",
    "F = 0.2  # > 0\n",
    "\n",
    "# r = np.arange(0,1,0.01)  # actually is r^*\n",
    "# phi = np.arange(-np.pi, np.pi, np.pi/180)  # actually is \\phi^*\n",
    "\n",
    "# tau = alpha + 3*beta1*r**2-(F/r)*np.cos(phi)\n",
    "# Delta = -(alpha+3*beta1*r**2)*(F/r)*np.cos(phi)+((F/r)*np.sin(phi))**2\n",
    " \n",
    "\n",
    "    \n",
    "# ch.4 p 9 (eq.4.7)\n",
    "rc2 = polyroots([-(F**2), a**2, 2*a*b1, 2*b1])  # r_c^{2}\n",
    "# rc2 = np.roots([2*b1, 2*a*b1, a**2, -(F**2) ])\n",
    "print rc2\n",
    "\n",
    "\n",
    "\n",
    "# rr = np.linspace(-2, 1, 500)\n",
    "# plt.plot(rr,-(F**2) + rr*(a**2) + (rr**2) * (2*a*b1) + (rr**3) * (2*b1))\n",
    "# plt.grid(True)\n",
    "\n",
    "\n"
   ]
  },
  {
   "cell_type": "code",
   "execution_count": 128,
   "metadata": {
    "collapsed": false
   },
   "outputs": [
    {
     "data": {
      "text/plain": [
       "(0, 0.20000000000000001)"
      ]
     },
     "execution_count": 128,
     "metadata": {},
     "output_type": "execute_result"
    },
    {
     "data": {
      "image/png": "[encoded data removed]",
      "text/plain": [
       "<matplotlib.figure.Figure at 0x10cd2ab10>"
      ]
     },
     "metadata": {},
     "output_type": "display_data"
    }
   ],
   "source": [
    "a = 1.0  # alpha > 0\n",
    "b1 = -100.0 # beta1 < 0\n",
    "\n",
    "Fmax = 0.2\n",
    "\n",
    "Fsn = np.sqrt(-a**3/(4*b1))\n",
    "\n",
    "FH = np.linspace(Fsn,Fmax,100)\n",
    "BH = np.sqrt(-(2*b1*FH**2/a)-(a**2/4))\n",
    "\n",
    "FSN = np.linspace(0,Fsn,50)\n",
    "BSN = []\n",
    "for Ftmp in FSN:\n",
    "    rcl2 = polyroots([Ftmp**2, 0, 2*a*b1, 2*b1**2])\n",
    "    # print rcl2\n",
    "    # which one should I pick? for now go with max\n",
    "    rcl2 = rcl2[np.imag(rcl2) < 1e-20]\n",
    "    rcl2 = max(rcl2[rcl2>0])\n",
    "    BSN.append(np.sqrt(-(a+3*b1*rcl2)*(a+b1*rcl2)))\n",
    "BSN = np.array(BSN)\n",
    "    \n",
    "TWOPI = 2*np.pi\n",
    "plt.plot(-BH/TWOPI , FH )\n",
    "plt.plot( BH/TWOPI , FH )\n",
    "plt.plot( BSN/TWOPI, FSN)\n",
    "plt.plot(-BSN/TWOPI, FSN)\n",
    "\n",
    "\n",
    "plt.ylim((0,max(FH)))\n"
   ]
  },
  {
   "cell_type": "code",
   "execution_count": null,
   "metadata": {
    "collapsed": true
   },
   "outputs": [],
   "source": []
  }
 ],
 "metadata": {
  "kernelspec": {
   "display_name": "Python 2",
   "language": "python",
   "name": "python2"
  },
  "language_info": {
   "codemirror_mode": {
    "name": "ipython",
    "version": 2
   },
   "file_extension": ".py",
   "mimetype": "text/x-python",
   "name": "python",
   "nbconvert_exporter": "python",
   "pygments_lexer": "ipython2",
   "version": "2.7.9"
  }
 },
 "nbformat": 4,
 "nbformat_minor": 0
}
