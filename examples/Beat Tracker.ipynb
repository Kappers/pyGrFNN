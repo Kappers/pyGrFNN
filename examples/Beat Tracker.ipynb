{
 "metadata": {
  "name": "",
  "signature": "sha256:50a3be057d80821776fe6e1e940958fdd812d616364d2c9ebac439b4dc638ef7"
 },
 "nbformat": 3,
 "nbformat_minor": 0,
 "worksheets": [
  {
   "cells": [
    {
     "cell_type": "markdown",
     "metadata": {},
     "source": [
      "# GrFNN based beat tracker\n",
      "\n",
      "As shown in CogMIR '14\n",
      "\n",
      "** TO DO: complete **"
     ]
    },
    {
     "cell_type": "code",
     "collapsed": false,
     "input": [
      "%matplotlib inline\n",
      "%autoreload 2\n",
      "\n",
      "import sys\n",
      "sys.path.append('../')  # needed to run the examples from within the package folder\n",
      "\n",
      "import numpy as np\n",
      "import matplotlib.pyplot as plt\n",
      "import mpld3\n",
      "# mpld3.enable_notebook()\n",
      "\n",
      "from pygrfnn.network import Model, make_connections\n",
      "from pygrfnn.oscillator import Zparam\n",
      "from pygrfnn.grfnn import GrFNN\n",
      "from pygrfnn.vis import plot_connections\n",
      "from pygrfnn.vis import tf_detail"
     ],
     "language": "python",
     "metadata": {},
     "outputs": []
    }
   ],
   "metadata": {}
  }
 ]
}