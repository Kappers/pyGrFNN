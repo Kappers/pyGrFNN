{
 "metadata": {
  "name": "",
  "signature": "sha256:c2ed79f94a83d07d7cf02bcc2f2a8e478209c51eb6f71f945b56a9404d2a5031"
 },
 "nbformat": 3,
 "nbformat_minor": 0,
 "worksheets": [
  {
   "cells": [
    {
     "cell_type": "markdown",
     "metadata": {},
     "source": [
      "# Example of Hebbian Learning\n",
      "\n",
      "Mimic Ed Large's GrFNN-Toobox1.0 example1p.m\n",
      "\n",
      "A one layer network with plastic internal connections (and no input)"
     ]
    },
    {
     "cell_type": "markdown",
     "metadata": {},
     "source": [
      "### Preliminaries\n",
      "\n",
      "Start by importing the necessary modules and packages. Also use some ipython magic for inline plotting."
     ]
    },
    {
     "cell_type": "code",
     "collapsed": false,
     "input": [
      "# 0. Preliminares\n",
      "\n",
      "%matplotlib inline\n",
      "\n",
      "import sys\n",
      "sys.path.append('../')  # needed to run the examples from within the package folder\n",
      "\n",
      "import numpy as np\n",
      "import matplotlib.pyplot as plt\n",
      "import mpld3\n",
      "mpld3.enable_notebook()\n",
      "\n",
      "\n",
      "from pygrfnn.network import Model, make_connections\n",
      "from pygrfnn.oscillator import Zparam\n",
      "from pygrfnn.grfnn import GrFNN\n",
      "from pygrfnn.vis import plot_connections\n",
      "from pygrfnn.vis import tf_detail"
     ],
     "language": "python",
     "metadata": {},
     "outputs": [],
     "prompt_number": 1
    },
    {
     "cell_type": "code",
     "collapsed": false,
     "input": [
      "# GrFNN parameters\n",
      "params = Zparam( 1, -1, -1000, 0, 0, 1)  # Limit Cycle\n",
      "\n",
      "# Parameter sets for Hebbian plasiticity\n",
      "w = .05; \n",
      "# lambda =  -.1; mu1 =  0; mu2 =  0; ceps =  4, kappa = 1; % Linear learning rule\n",
      "# lambda =   0; mu1 = -1; mu2 = -50; ceps =  4, kappa = 1; % Critical learning rule\n",
      "# lambda =   0; mu1 = -1; mu2 = -50; ceps = 16, kappa = 1; % Critical, stronger nonlinearity\n",
      " lambda = .001; mu1 = -1; mu2 = -50; ceps = 16, kappa = 1; % Supercritical learning rule\n",
      "\n",
      "# no stimulus\n",
      "\n",
      "# 2. Create a GrFNN layer\n",
      "layer = GrFNN(params, \n",
      "              fc=1,\n",
      "              octaves_per_side=1,\n",
      "              oscs_per_octave=99.5)\n",
      "\n",
      "\n",
      "\n",
      "n = connectAdd(n, n, [], 'weight', w, 'type', 'all2freq', ...\n",
      "                         'learn', lambda, mu1, mu2, ceps, kappa, ...\n",
      "                         'display', 10, 'save', 500);\n",
      "\n",
      "model = modelMake(@zdot, @cdot, s, n);\n",
      "\n",
      "%% Run the network\n",
      "tic\n",
      "model = odeRK4fs(model);\n",
      "toc\n"
     ],
     "language": "python",
     "metadata": {},
     "outputs": []
    }
   ],
   "metadata": {}
  }
 ]
}