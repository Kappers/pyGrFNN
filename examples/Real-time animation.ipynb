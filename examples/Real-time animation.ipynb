{
 "metadata": {
  "name": "",
  "signature": "sha256:183e92f2198f9f4f389d20df29164b54abbde139cd8430578a27e4e8682c263c"
 },
 "nbformat": 3,
 "nbformat_minor": 0,
 "worksheets": [
  {
   "cells": [
    {
     "cell_type": "code",
     "collapsed": false,
     "input": [
      "%matplotlib inline\n",
      "\n",
      "import matplotlib.pyplot as plt\n",
      "import numpy as np\n",
      "from IPython import display\n",
      "\n",
      "\n",
      "\n",
      "x = np.linspace(0, 6*np.pi, 100)\n",
      "y = np.sin(x)\n",
      "\n",
      "fig = plt.figure()\n",
      "ax = fig.add_subplot(111)\n",
      "line1, = ax.plot(x, y, 'r-') # Returns a tuple of line objects, thus the comma\n",
      "\n",
      "for phase in np.linspace(0, 10*np.pi, 500):\n",
      "    line1.set_ydata(np.sin(x + phase))\n",
      "    display.clear_output(wait=True)\n",
      "    display.display(plt.gcf())"
     ],
     "language": "python",
     "metadata": {},
     "outputs": []
    },
    {
     "cell_type": "code",
     "collapsed": false,
     "input": [],
     "language": "python",
     "metadata": {},
     "outputs": []
    }
   ],
   "metadata": {}
  }
 ]
}