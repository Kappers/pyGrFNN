{
 "metadata": {
  "name": "",
  "signature": "sha256:98f78ea552a23072352224d15329b31e930d4374161d532bbdd2dc67edd0de64"
 },
 "nbformat": 3,
 "nbformat_minor": 0,
 "worksheets": [
  {
   "cells": [
    {
     "cell_type": "markdown",
     "metadata": {},
     "source": [
      "# Example of Hebbian Learning\n",
      "\n",
      "Mimic Ed Large's GrFNN-Toobox1.0 example1p.m\n",
      "\n",
      "A one layer network with plastic internal connections (and no input)"
     ]
    },
    {
     "cell_type": "markdown",
     "metadata": {},
     "source": [
      "### Preliminaries\n",
      "\n",
      "Start by importing the necessary modules and packages. Also use some ipython magic for inline plotting."
     ]
    },
    {
     "cell_type": "code",
     "collapsed": false,
     "input": [
      "# 0. Preliminares\n",
      "\n",
      "%matplotlib inline\n",
      "\n",
      "import sys\n",
      "sys.path.append('../')  # needed to run the examples from within the package folder\n",
      "\n",
      "import numpy as np\n",
      "import matplotlib.pyplot as plt\n",
      "import mpld3\n",
      "mpld3.enable_notebook()\n",
      "\n",
      "\n",
      "from pygrfnn.network import Model, make_connections\n",
      "from pygrfnn.oscillator import Zparam\n",
      "from pygrfnn.grfnn import GrFNN\n",
      "from pygrfnn.vis import plot_connections\n",
      "from pygrfnn.vis import tf_detail"
     ],
     "language": "python",
     "metadata": {},
     "outputs": [],
     "prompt_number": 1
    },
    {
     "cell_type": "code",
     "collapsed": false,
     "input": [
      "# GrFNN parameters\n",
      "params = Zparam( 1, -1, -1000, 0, 0, 1)  # Limit Cycle\n",
      "\n",
      "# Parameter sets for Hebbian plasiticity\n",
      "w = .05; \n",
      "# lambda =  -.1; mu1 =  0; mu2 =  0; ceps =  4, kappa = 1; % Linear learning rule\n",
      "# lambda =   0; mu1 = -1; mu2 = -50; ceps =  4, kappa = 1; % Critical learning rule\n",
      "# lambda =   0; mu1 = -1; mu2 = -50; ceps = 16, kappa = 1; % Critical, stronger nonlinearity\n",
      " lambda = .001; mu1 = -1; mu2 = -50; ceps = 16, kappa = 1; % Supercritical learning rule\n",
      "\n",
      "# Create stimulus\n",
      "#s = stimulusMake('fcn', [0 100], 40, {'exp'}, [1], [0]);\n",
      "\n",
      "sr = 40.0  # hz\n",
      "dt = 1.0 / sr\n",
      "t = np.arange(0, 100, dt)\n",
      "fc = 1\n",
      "s = np.exp(1j * 2 * np.pi * fc * t)\n",
      "\n",
      "\n",
      "n = networkMake(1, 'hopf', alpha, beta1,  beta2, 0, 0, neps, ...\n",
      "                   'log', .5, 2, 200, 'channel', 1, 'save', 1, ...\n",
      "                   'display', 2, 'Tick', [.5 .67 .75 1 1.25 1.33 1.50 2]);\n",
      "\n",
      "n = connectAdd(n, n, [], 'weight', w, 'type', 'all2freq', ...\n",
      "                         'learn', lambda, mu1, mu2, ceps, kappa, ...\n",
      "                         'display', 10, 'save', 500);\n",
      "\n",
      "model = modelMake(@zdot, @cdot, s, n);\n",
      "\n",
      "%% Run the network\n",
      "tic\n",
      "model = odeRK4fs(model);\n",
      "toc\n"
     ],
     "language": "python",
     "metadata": {},
     "outputs": []
    }
   ],
   "metadata": {}
  }
 ]
}