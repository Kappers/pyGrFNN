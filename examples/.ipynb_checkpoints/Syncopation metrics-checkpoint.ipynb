{
 "metadata": {
  "name": "",
  "signature": "sha256:bdfc016866f3f190c28e6c79207231bb274901fb07fc08fac89b1f19b8ebc793"
 },
 "nbformat": 3,
 "nbformat_minor": 0,
 "worksheets": [
  {
   "cells": [
    {
     "cell_type": "markdown",
     "metadata": {},
     "source": [
      "# Syncopation metrics\n",
      "\n",
      "This notebook show how to compute the level of syncopation of all the patterns in the library of rhythms in `pyrhythm`"
     ]
    },
    {
     "cell_type": "code",
     "collapsed": false,
     "input": [
      "import sys\n",
      "sys.path.append('../')  # needed to run the examples from within the package folder\n",
      "\n",
      "from pyrhythm.pattern_library import patterns_as_list\n",
      "from pyrhythm import Pattern\n",
      "from pyrhythm.metrics import LHL\n",
      "from pyrhythm.metrics import offBeatness\n",
      "\n",
      "from IPython.display import HTML\n",
      "\n",
      "htmlTable = \"\"\"<table>\n",
      "<tr>\n",
      "<td>Pattern Name</td>\n",
      "<td>LHL</td>\n",
      "<td>LHL/beat</td>\n",
      "<td>offBeatness</td>\n",
      "<td>offBeatness/beat</td>\n",
      "</tr>\n",
      "\"\"\"\n",
      "\n",
      "for pat in [Pattern(**p) for p in patterns_as_list]:\n",
      "    s = LHL(pat)\n",
      "    nb = pat.num_bars()*pat.numerator\n",
      "    ob = offBeatness(pat)\n",
      "    list_to_display = (pat.name, s, float(s)/nb, ob, ob/nb)\n",
      "#     print \"{: <35}\\t{:2.0f}\\t{:02.2f}\\t{:2.0f}\\t{:2.2f}\".format(*list_to_display)\n",
      "    htmlTable += \"<tr><td>\"\n",
      "    htmlTable += \"</td><td>\".join(\"{}\".format(k) for k in list_to_display)\n",
      "    htmlTable += \"</td></tr>\"\n",
      "    \n",
      "htmlTable += \"</table>\"\n",
      "h = HTML(htmlTable); h"
     ],
     "language": "python",
     "metadata": {},
     "outputs": [
      {
       "html": [
        "<table>\n",
        "<tr>\n",
        "<td>Pattern Name</td>\n",
        "<td>LHL</td>\n",
        "<td>LHL/beat</td>\n",
        "<td>offBeatness</td>\n",
        "<td>offBeatness/beat</td>\n",
        "</tr>\n",
        "<tr><td>Chapin1</td><td>5.0</td><td>0.625</td><td>4.0</td><td>0.5</td></tr><tr><td>Chapin2</td><td>6.0</td><td>0.75</td><td>4.0</td><td>0.5</td></tr><tr><td>Chapin3</td><td>7.0</td><td>0.875</td><td>4.0</td><td>0.5</td></tr><tr><td>Chapin4</td><td>6.0</td><td>0.75</td><td>4.0</td><td>0.5</td></tr><tr><td>Chapin5</td><td>4.0</td><td>0.5</td><td>4.0</td><td>0.5</td></tr><tr><td>Chapin6</td><td>5.0</td><td>0.625</td><td>4.0</td><td>0.5</td></tr><tr><td>Chapin7</td><td>5.0</td><td>0.625</td><td>4.0</td><td>0.5</td></tr><tr><td>Chapin8</td><td>5.0</td><td>0.625</td><td>4.0</td><td>0.5</td></tr><tr><td>Chapin9</td><td>5.0</td><td>0.625</td><td>4.0</td><td>0.5</td></tr><tr><td>Chapin10</td><td>6.0</td><td>0.75</td><td>4.0</td><td>0.5</td></tr><tr><td>Essens01</td><td>1.0</td><td>0.25</td><td>4.0</td><td>1.0</td></tr><tr><td>Essens02</td><td>1.0</td><td>0.25</td><td>4.0</td><td>1.0</td></tr><tr><td>Essens03</td><td>1.0</td><td>0.25</td><td>4.0</td><td>1.0</td></tr><tr><td>Essens04</td><td>1.0</td><td>0.25</td><td>4.0</td><td>1.0</td></tr><tr><td>Essens05</td><td>1.0</td><td>0.25</td><td>4.0</td><td>1.0</td></tr><tr><td>Essens06</td><td>1.0</td><td>0.25</td><td>3.0</td><td>0.75</td></tr><tr><td>Essens07</td><td>0</td><td>0.0</td><td>5.0</td><td>1.25</td></tr><tr><td>Essens08</td><td>1.0</td><td>0.25</td><td>5.0</td><td>1.25</td></tr><tr><td>Essens09</td><td>1.0</td><td>0.25</td><td>5.0</td><td>1.25</td></tr><tr><td>Essens10</td><td>1.0</td><td>0.25</td><td>2.0</td><td>0.5</td></tr><tr><td>Essens11</td><td>0</td><td>0.0</td><td>4.0</td><td>1.0</td></tr><tr><td>Essens12</td><td>1.0</td><td>0.25</td><td>2.0</td><td>0.5</td></tr><tr><td>Essens13</td><td>2.0</td><td>0.5</td><td>4.0</td><td>1.0</td></tr><tr><td>Essens14</td><td>3.0</td><td>0.75</td><td>6.0</td><td>1.5</td></tr><tr><td>Essens15</td><td>3.0</td><td>0.75</td><td>6.0</td><td>1.5</td></tr><tr><td>Essens16</td><td>2.0</td><td>0.5</td><td>5.0</td><td>1.25</td></tr><tr><td>Essens17</td><td>2.0</td><td>0.5</td><td>5.0</td><td>1.25</td></tr><tr><td>Essens18</td><td>2.0</td><td>0.5</td><td>6.0</td><td>1.5</td></tr><tr><td>Essens19</td><td>3.0</td><td>0.75</td><td>5.0</td><td>1.25</td></tr><tr><td>Essens20</td><td>2.0</td><td>0.5</td><td>5.0</td><td>1.25</td></tr><tr><td>Essens21</td><td>2.0</td><td>0.5</td><td>6.0</td><td>1.5</td></tr><tr><td>Essens22</td><td>2.0</td><td>0.5</td><td>5.0</td><td>1.25</td></tr><tr><td>Essens23</td><td>2.0</td><td>0.5</td><td>5.0</td><td>1.25</td></tr><tr><td>Essens24</td><td>2.0</td><td>0.5</td><td>5.0</td><td>1.25</td></tr><tr><td>FitchTest0_(same_as_Fitch01)</td><td>0</td><td>0.0</td><td>2.0</td><td>0.25</td></tr><tr><td>FitchTest5</td><td>6.0</td><td>0.75</td><td>1.0</td><td>0.125</td></tr><tr><td>FitchTest10_(same_as_Fitch26)</td><td>9.0</td><td>1.125</td><td>2.0</td><td>0.25</td></tr><tr><td>FitchTest15</td><td>14.0</td><td>1.75</td><td>5.0</td><td>0.625</td></tr><tr><td>Fitch01</td><td>0</td><td>0.0</td><td>2.0</td><td>0.5</td></tr><tr><td>Fitch02</td><td>0</td><td>0.0</td><td>1.0</td><td>0.25</td></tr><tr><td>Fitch03</td><td>1.0</td><td>0.25</td><td>2.0</td><td>0.5</td></tr><tr><td>Fitch04</td><td>2.0</td><td>0.5</td><td>1.0</td><td>0.25</td></tr><tr><td>Fitch05</td><td>3.0</td><td>0.75</td><td>3.0</td><td>0.75</td></tr><tr><td>Fitch06</td><td>4.0</td><td>1.0</td><td>3.0</td><td>0.75</td></tr><tr><td>Fitch07</td><td>5.0</td><td>1.25</td><td>1.0</td><td>0.25</td></tr><tr><td>Fitch08</td><td>6.0</td><td>1.5</td><td>2.0</td><td>0.5</td></tr><tr><td>Fitch09</td><td>7.0</td><td>1.75</td><td>3.0</td><td>0.75</td></tr><tr><td>Fitch10</td><td>8.0</td><td>2.0</td><td>3.0</td><td>0.75</td></tr><tr><td>Fitch11</td><td>10.0</td><td>2.5</td><td>2.0</td><td>0.5</td></tr><tr><td>Fitch12</td><td>11.0</td><td>2.75</td><td>3.0</td><td>0.75</td></tr><tr><td>Fitch13</td><td>12.0</td><td>3.0</td><td>3.0</td><td>0.75</td></tr><tr><td>Fitch14</td><td>13.0</td><td>3.25</td><td>3.0</td><td>0.75</td></tr><tr><td>Fitch15</td><td>14.0</td><td>3.5</td><td>4.0</td><td>1.0</td></tr><tr><td>Fitch16</td><td>0</td><td>0.0</td><td>1.0</td><td>0.25</td></tr><tr><td>Fitch17</td><td>1.0</td><td>0.25</td><td>2.0</td><td>0.5</td></tr><tr><td>Fitch18</td><td>2.0</td><td>0.5</td><td>2.0</td><td>0.5</td></tr><tr><td>Fitch19</td><td>4.0</td><td>1.0</td><td>1.0</td><td>0.25</td></tr><tr><td>Fitch20</td><td>3.0</td><td>0.75</td><td>2.0</td><td>0.5</td></tr><tr><td>Fitch21</td><td>4.0</td><td>1.0</td><td>2.0</td><td>0.5</td></tr><tr><td>Fitch22</td><td>5.0</td><td>1.25</td><td>4.0</td><td>1.0</td></tr><tr><td>Fitch23</td><td>8.0</td><td>2.0</td><td>2.0</td><td>0.5</td></tr><tr><td>Fitch24</td><td>9.0</td><td>2.25</td><td>3.0</td><td>0.75</td></tr><tr><td>Fitch25</td><td>9.0</td><td>2.25</td><td>1.0</td><td>0.25</td></tr><tr><td>Fitch26</td><td>10.0</td><td>2.5</td><td>2.0</td><td>0.5</td></tr><tr><td>Fitch27</td><td>11.0</td><td>2.75</td><td>3.0</td><td>0.75</td></tr><tr><td>Fitch28</td><td>14.0</td><td>3.5</td><td>4.0</td><td>1.0</td></tr><tr><td>Fitch29</td><td>15.0</td><td>3.75</td><td>5.0</td><td>1.25</td></tr><tr><td>Fitch30</td><td>15.0</td><td>3.75</td><td>5.0</td><td>1.25</td></tr><tr><td>Simple</td><td>0</td><td>0.0</td><td>2.0</td><td>0.5</td></tr><tr><td>IGot</td><td>8.0</td><td>1.0</td><td>2.0</td><td>0.25</td></tr><tr><td>IGotFull</td><td>21.0</td><td>0.65625</td><td>9.0</td><td>0.28125</td></tr><tr><td>40feet</td><td>3.0</td><td>0.75</td><td>3.0</td><td>0.75</td></tr><tr><td>Nozaradan1</td><td>2.0</td><td>0.333333333333</td><td>3.0</td><td>0.5</td></tr><tr><td>Nozaradan2</td><td>0</td><td>0.0</td><td>3.0</td><td>0.375</td></tr><tr><td>Nozaradan3</td><td>4.0</td><td>0.666666666667</td><td>3.0</td><td>0.5</td></tr><tr><td>Nozaradan4</td><td>3.0</td><td>0.5</td><td>3.0</td><td>0.5</td></tr><tr><td>Nozaradan5</td><td>6.0</td><td>0.75</td><td>5.0</td><td>0.625</td></tr><tr><td>PovelEssens01</td><td>0</td><td>0.0</td><td>3.0</td><td>0.75</td></tr><tr><td>PovelEssens02</td><td>0</td><td>0.0</td><td>3.0</td><td>0.75</td></tr><tr><td>PovelEssens03</td><td>0</td><td>0.0</td><td>3.0</td><td>0.75</td></tr><tr><td>PovelEssens04</td><td>0</td><td>0.0</td><td>3.0</td><td>0.75</td></tr><tr><td>PovelEssens05</td><td>0</td><td>0.0</td><td>3.0</td><td>0.75</td></tr><tr><td>PovelEssens06</td><td>1.0</td><td>0.25</td><td>3.0</td><td>0.75</td></tr><tr><td>PovelEssens07</td><td>1.0</td><td>0.25</td><td>4.0</td><td>1.0</td></tr><tr><td>PovelEssens08</td><td>1.0</td><td>0.25</td><td>3.0</td><td>0.75</td></tr><tr><td>PovelEssens09</td><td>1.0</td><td>0.25</td><td>3.0</td><td>0.75</td></tr><tr><td>PovelEssens10</td><td>1.0</td><td>0.25</td><td>3.0</td><td>0.75</td></tr><tr><td>PovelEssens11</td><td>2.0</td><td>0.5</td><td>4.0</td><td>1.0</td></tr><tr><td>PovelEssens12</td><td>1.0</td><td>0.25</td><td>4.0</td><td>1.0</td></tr><tr><td>PovelEssens13</td><td>2.0</td><td>0.5</td><td>4.0</td><td>1.0</td></tr><tr><td>PovelEssens14</td><td>2.0</td><td>0.5</td><td>4.0</td><td>1.0</td></tr><tr><td>PovelEssens15</td><td>2.0</td><td>0.5</td><td>5.0</td><td>1.25</td></tr><tr><td>PovelEssens16</td><td>2.0</td><td>0.5</td><td>4.0</td><td>1.0</td></tr><tr><td>PovelEssens17</td><td>3.0</td><td>0.75</td><td>5.0</td><td>1.25</td></tr><tr><td>PovelEssens18</td><td>3.0</td><td>0.75</td><td>5.0</td><td>1.25</td></tr><tr><td>PovelEssens19</td><td>2.0</td><td>0.5</td><td>4.0</td><td>1.0</td></tr><tr><td>PovelEssens20</td><td>3.0</td><td>0.75</td><td>5.0</td><td>1.25</td></tr><tr><td>PovelEssens21</td><td>4.0</td><td>1.0</td><td>4.0</td><td>1.0</td></tr><tr><td>PovelEssens22</td><td>3.0</td><td>0.75</td><td>4.0</td><td>1.0</td></tr><tr><td>PovelEssens23</td><td>1.0</td><td>0.25</td><td>3.0</td><td>0.75</td></tr><tr><td>PovelEssens24</td><td>3.0</td><td>0.75</td><td>4.0</td><td>1.0</td></tr><tr><td>PovelEssens25</td><td>1.0</td><td>0.25</td><td>3.0</td><td>0.75</td></tr><tr><td>PovelEssens26</td><td>6.0</td><td>1.5</td><td>5.0</td><td>1.25</td></tr><tr><td>PovelEssens27</td><td>5.0</td><td>1.25</td><td>5.0</td><td>1.25</td></tr><tr><td>PovelEssens28</td><td>3.0</td><td>0.75</td><td>4.0</td><td>1.0</td></tr><tr><td>PovelEssens29</td><td>4.0</td><td>1.0</td><td>4.0</td><td>1.0</td></tr><tr><td>PovelEssens30</td><td>3.0</td><td>0.75</td><td>4.0</td><td>1.0</td></tr><tr><td>PovelEssens31</td><td>5.0</td><td>1.25</td><td>4.0</td><td>1.0</td></tr><tr><td>PovelEssens32</td><td>5.0</td><td>1.25</td><td>4.0</td><td>1.0</td></tr><tr><td>PovelEssens33</td><td>3.0</td><td>0.75</td><td>4.0</td><td>1.0</td></tr><tr><td>PovelEssens34</td><td>3.0</td><td>0.75</td><td>4.0</td><td>1.0</td></tr><tr><td>PovelEssens35</td><td>4.0</td><td>1.0</td><td>4.0</td><td>1.0</td></tr><tr><td>Shiko</td><td>2.0</td><td>0.5</td><td>2.0</td><td>0.5</td></tr><tr><td>Son</td><td>4.0</td><td>1.0</td><td>1.0</td><td>0.25</td></tr><tr><td>Rumba</td><td>6.0</td><td>1.5</td><td>2.0</td><td>0.5</td></tr><tr><td>Soukous</td><td>7.0</td><td>1.75</td><td>2.0</td><td>0.5</td></tr><tr><td>Gahu</td><td>5.0</td><td>1.25</td><td>1.0</td><td>0.25</td></tr><tr><td>Bossa</td><td>6.0</td><td>1.5</td><td>2.0</td><td>0.5</td></tr><tr><td>Bossa2</td><td>6.0</td><td>1.5</td><td>2.0</td><td>0.5</td></tr><tr><td>FumeFume2</td><td>3.0</td><td>0.5</td><td>1.0</td><td>0.166666666667</td></tr><tr><td>Soli</td><td>1.0</td><td>0.166666666667</td><td>1.0</td><td>0.166666666667</td></tr><tr><td>Tambu</td><td>3.0</td><td>0.5</td><td>2.0</td><td>0.333333333333</td></tr><tr><td>Bembe</td><td>4.0</td><td>0.666666666667</td><td>3.0</td><td>0.5</td></tr><tr><td>Bembe2</td><td>3.0</td><td>0.5</td><td>2.0</td><td>0.333333333333</td></tr><tr><td>Yoruba</td><td>3.0</td><td>0.5</td><td>2.0</td><td>0.333333333333</td></tr><tr><td>Tonada</td><td>2.0</td><td>0.333333333333</td><td>1.0</td><td>0.166666666667</td></tr><tr><td>Asaadua</td><td>2.0</td><td>0.333333333333</td><td>1.0</td><td>0.166666666667</td></tr><tr><td>Sorsonet</td><td>0</td><td>0.0</td><td>1.0</td><td>0.166666666667</td></tr><tr><td>Bemba</td><td>5.0</td><td>0.833333333333</td><td>2.0</td><td>0.333333333333</td></tr><tr><td>Ashanti</td><td>3.0</td><td>0.5</td><td>2.0</td><td>0.333333333333</td></tr><tr><td>FumeFume3</td><td>3.0</td><td>0.5</td><td>1.0</td><td>0.166666666667</td></tr></table>"
       ],
       "metadata": {},
       "output_type": "pyout",
       "prompt_number": 14,
       "text": [
        "<IPython.core.display.HTML at 0x11008d610>"
       ]
      }
     ],
     "prompt_number": 14
    },
    {
     "cell_type": "code",
     "collapsed": false,
     "input": [],
     "language": "python",
     "metadata": {},
     "outputs": []
    }
   ],
   "metadata": {}
  }
 ]
}