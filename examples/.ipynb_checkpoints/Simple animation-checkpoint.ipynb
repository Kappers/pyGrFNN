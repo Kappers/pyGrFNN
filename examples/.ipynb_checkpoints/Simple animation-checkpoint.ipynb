{
 "metadata": {
  "name": "",
  "signature": "sha256:e513d8861508cae7cb0863a45fd203a27a760dccc3900df8d4994326a31090d6"
 },
 "nbformat": 3,
 "nbformat_minor": 0,
 "worksheets": []
}